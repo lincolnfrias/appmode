{
 "cells": [
  {
   "cell_type": "markdown",
   "metadata": {},
   "source": [
    "# Funciona?\n",
    "\n",
    "explicações  \n",
    "explicaçõesexplicações  \n",
    "explicações  "
   ]
  },
  {
   "cell_type": "code",
   "execution_count": 1,
   "metadata": {},
   "outputs": [
    {
     "data": {
      "application/vnd.jupyter.widget-view+json": {
       "model_id": "595bfca8c84545da9447c72c4fb5d2e9",
       "version_major": 2,
       "version_minor": 0
      },
      "text/html": [
       "<p>Failed to display Jupyter Widget of type <code>interactive</code>.</p>\n",
       "<p>\n",
       "  If you're reading this message in the Jupyter Notebook or JupyterLab Notebook, it may mean\n",
       "  that the widgets JavaScript is still loading. If this message persists, it\n",
       "  likely means that the widgets JavaScript library is either not installed or\n",
       "  not enabled. See the <a href=\"https://ipywidgets.readthedocs.io/en/stable/user_install.html\">Jupyter\n",
       "  Widgets Documentation</a> for setup instructions.\n",
       "</p>\n",
       "<p>\n",
       "  If you're reading this message in another frontend (for example, a static\n",
       "  rendering on GitHub or <a href=\"https://nbviewer.jupyter.org/\">NBViewer</a>),\n",
       "  it may mean that your frontend doesn't currently support widgets.\n",
       "</p>\n"
      ],
      "text/plain": [
       "interactive(children=(IntSlider(value=5, description='quantas linhas', max=50, min=5, style=SliderStyle(description_width='initial')), SelectMultiple(description='colunas', index=(0, 1, 2, 3, 4, 5, 6), options=('nome_mun', 'nome_uf', 'renocup', 'pibpc', 'espvida', 'porte', 'popul'), value=('nome_mun', 'nome_uf', 'renocup', 'pibpc', 'espvida', 'porte', 'popul')), Output()), _dom_classes=('widget-interact',))"
      ]
     },
     "metadata": {},
     "output_type": "display_data"
    }
   ],
   "source": [
    "import pandas as pd\n",
    "from ipywidgets import interact, interactive, fixed, interact_manual, IntSlider, FloatSlider\n",
    "import ipywidgets as widgets\n",
    "from IPython.display import display\n",
    "\n",
    "atlas = pd.read_csv('dados/atlas.csv')\n",
    "\n",
    "colunas = ['nome_mun', 'nome_uf', 'renocup', 'pibpc', 'espvida', 'porte', 'popul']\n",
    "int_range_slider = widgets.IntSlider(5, 5, 50, 1, description='quantas linhas', style={'description_width': 'initial'})\n",
    "multiselect = widgets.SelectMultiple(options=colunas, value=colunas, description='colunas')\n",
    "\n",
    "\n",
    "def show_df(df, rows, columns):\n",
    "    temp = df[list(columns)]\n",
    "    display(temp.head(rows))\n",
    "\n",
    "interact(show_df, df=fixed(atlas), rows=int_range_slider, columns=multiselect);"
   ]
  },
  {
   "cell_type": "code",
   "execution_count": null,
   "metadata": {},
   "outputs": [],
   "source": []
  }
 ],
 "metadata": {
  "kernelspec": {
   "display_name": "Python 3",
   "language": "python",
   "name": "python3"
  },
  "language_info": {
   "codemirror_mode": {
    "name": "ipython",
    "version": 3
   },
   "file_extension": ".py",
   "mimetype": "text/x-python",
   "name": "python",
   "nbconvert_exporter": "python",
   "pygments_lexer": "ipython3",
   "version": "3.6.3"
  }
 },
 "nbformat": 4,
 "nbformat_minor": 2
}
